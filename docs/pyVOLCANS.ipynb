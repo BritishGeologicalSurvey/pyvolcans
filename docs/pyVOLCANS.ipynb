{
 "cells": [
  {
   "cell_type": "markdown",
   "id": "be070064-b967-41cb-a156-4b1e6e1aaec6",
   "metadata": {},
   "source": [
    "# A Jupyter notebook to run PyVOLCANS"
   ]
  },
  {
   "cell_type": "markdown",
   "id": "0e9ab2ee-03b3-4fc7-89f7-a7c0b82c60fb",
   "metadata": {},
   "source": [
    "PyVOLCANS is an open-access Python tool that generates data-driven sets of analogue\n",
    "volcanoes for any Holocene volcano listed in the Global Volcanism Program (GVP)\n",
    "[Volcanoes Of The World database](https://volcano.si.edu/volcanolist_holocene.cfm) (v. 4.6.7),\n",
    "based on the VOLCANS (VOLCano ANalogues Search) method presented by [Tierz, Loughlin and Calder (2019)](https://doi.org/10.1007/s00445-019-1336-3).\n",
    "\n",
    "The main goal of PyVOLCANS is to help alleviate data-scarcity issues in volcanology, and contribute to\n",
    "developments in a range of topics, including (but not limited to): quantitative volcanic\n",
    "hazard assessment at local to global scales; investigation of magmatic and volcanic processes;\n",
    "and even [teaching and scientific outreach](https://twitter.com/Xeno_lith/status/1384416032526266369?s=20).\n",
    "Please see [this presentation](https://youtu.be/iB1uiaxScek) for examples of the application of VOLCANS/PyVOLCANS\n",
    "to quantitative volcanic hazard at local to regional scales, within the [RiftVolc project](https://www.bgs.ac.uk/geology-projects/volcanoes/riftvolc/).\n",
    "\n",
    "For further information, please visit the [PyVOLCANS GitHub repository](https://github.com/BritishGeologicalSurvey/pyvolcans) and its [Wiki section](https://github.com/BritishGeologicalSurvey/pyvolcans/wiki).\n",
    "\n",
    "Many thanks for your interest in using PyVOLCANS!"
   ]
  },
  {
   "cell_type": "markdown",
   "id": "668b1970-6f61-4fc6-986f-10074366fb41",
   "metadata": {},
   "source": [
    "#### Import the functions used by PyVOLCANS"
   ]
  },
  {
   "cell_type": "code",
   "execution_count": 242,
   "id": "dfd9f028-fa2d-452d-acb7-84034fab38f6",
   "metadata": {},
   "outputs": [],
   "source": [
    "import pyvolcans.pyvolcans_func as pvf"
   ]
  },
  {
   "cell_type": "markdown",
   "id": "66823506-7361-471d-bd6f-551ab7ecf651",
   "metadata": {},
   "source": [
    "#### Select the basic parameters to run PyVOLCANS\n",
    "\n",
    "Three are the main parameters that PyVOLCANS uses to generate objective (i.e. data-driven), structured and reproducible sets of analogue volcanoes:\n",
    "\n",
    "[1] **Target volcano** (`volcano_input` below): volcano for which analogue volcanoes are being sought.\n",
    "\n",
    "[2] **_Weighting scheme_** (`weights` below): set of weights assigned to each of the volcanological criteria that PyVOLCANS uses to calculate the total analogy between any two volcanoes in the GVP database (please see equation 1 in [Tierz et al., 2019](https://doi.org/10.1007/s00445-019-1336-3). Please make sure that your sum of weights is equal to 1 (i.e. the total analogy is a weighted average of the single-criterion analogies).\n",
    "\n",
    "[3] **Number of _top_ analogues** (`count` below): number of analogues with the highest total analogy with respect to the target volcano that are displayed as an output in this Jupyter Notebook (please check `top_analogues` variable below)."
   ]
  },
  {
   "cell_type": "code",
   "execution_count": 244,
   "id": "13652589-f8f6-4d8e-b348-4ab8e7494373",
   "metadata": {},
   "outputs": [],
   "source": [
    "# Prepare arguments\n",
    "volcano_input = 221190  # Can be name [str] or Smithsonian ID (vnum) [int]\n",
    "weights = {'tectonic_setting': 0.2,\n",
    "           'geochemistry': 0.2,\n",
    "           'morphology': 0.2,\n",
    "           'eruption_size': 0.2,\n",
    "           'eruption_style': 0.2\n",
    "          }\n",
    "count = 10\n",
    "\n",
    "# Validate input arguments\n",
    "if isinstance(volcano_input, int):\n",
    "    volcano_idx = pvf.get_volcano_idx_from_number(volcano_input)\n",
    "    volcano_name = pvf.get_volcano_name_from_idx(volcano_idx)\n",
    "    volcano_vnum = volcano_input\n",
    "else:\n",
    "    volcano_name = volcano_input\n",
    "    volcano_vnum = pvf.get_volcano_number_from_name(volcano_input)\n",
    "\n",
    "assert sum(weights.values()) == 1  # Weights must add up to 1\n",
    "\n",
    "# Calculate analogy scores\n",
    "volcans_result = pvf.calculate_weighted_analogy_matrix(volcano_input, weights)\n",
    "top_analogues, volcano_name = pvf.get_analogies(volcano_input, volcans_result, count)\n",
    "pvf.warn_on_perfect_analogues(result=top_analogues)"
   ]
  },
  {
   "cell_type": "markdown",
   "id": "a85bab5b-1b8f-48ba-b8f5-1a253869b430",
   "metadata": {},
   "source": [
    "#### Display a list with the _top 'count'_ analogues\n",
    "\n",
    "Besides the name, country, Smithsonian ID (or VNUM) and the total analogy for each of the calculated _top_ analogues, the Pandas DataFrame `top_analogues` stores the values of each of the single-criterion analogies for each of these _top_ analogues: analogy in tectonic setting (ATs), analogy in geochemistry (AG), analogy in volcano morphology (AM), analogy in eruption size (ASz) and analogy in eruptive style (ASt). The sum of single-criterion analogies makes up the value of the total analogy between the target and analogue volcanoes."
   ]
  },
  {
   "cell_type": "code",
   "execution_count": 246,
   "id": "3d98d451-0efd-4ba1-a9a4-c72a4629e01a",
   "metadata": {},
   "outputs": [
    {
     "data": {
      "text/html": [
       "<div>\n",
       "<style scoped>\n",
       "    .dataframe tbody tr th:only-of-type {\n",
       "        vertical-align: middle;\n",
       "    }\n",
       "\n",
       "    .dataframe tbody tr th {\n",
       "        vertical-align: top;\n",
       "    }\n",
       "\n",
       "    .dataframe thead th {\n",
       "        text-align: right;\n",
       "    }\n",
       "</style>\n",
       "<table border=\"1\" class=\"dataframe\">\n",
       "  <thead>\n",
       "    <tr style=\"text-align: right;\">\n",
       "      <th></th>\n",
       "      <th>name</th>\n",
       "      <th>country</th>\n",
       "      <th>smithsonian_id</th>\n",
       "      <th>total_analogy</th>\n",
       "      <th>ATs</th>\n",
       "      <th>AG</th>\n",
       "      <th>AM</th>\n",
       "      <th>ASz</th>\n",
       "      <th>ASt</th>\n",
       "    </tr>\n",
       "  </thead>\n",
       "  <tbody>\n",
       "    <tr>\n",
       "      <th>117</th>\n",
       "      <td>Emuruangogolak</td>\n",
       "      <td>Kenya</td>\n",
       "      <td>222051</td>\n",
       "      <td>0.934646</td>\n",
       "      <td>0.2</td>\n",
       "      <td>0.158824</td>\n",
       "      <td>0.178947</td>\n",
       "      <td>0.200000</td>\n",
       "      <td>0.196875</td>\n",
       "    </tr>\n",
       "    <tr>\n",
       "      <th>17</th>\n",
       "      <td>Pantelleria</td>\n",
       "      <td>Italy</td>\n",
       "      <td>211071</td>\n",
       "      <td>0.931199</td>\n",
       "      <td>0.2</td>\n",
       "      <td>0.186275</td>\n",
       "      <td>0.184211</td>\n",
       "      <td>0.200000</td>\n",
       "      <td>0.160714</td>\n",
       "    </tr>\n",
       "    <tr>\n",
       "      <th>136</th>\n",
       "      <td>Kyejo</td>\n",
       "      <td>Tanzania</td>\n",
       "      <td>222170</td>\n",
       "      <td>0.928560</td>\n",
       "      <td>0.2</td>\n",
       "      <td>0.158824</td>\n",
       "      <td>0.194737</td>\n",
       "      <td>0.200000</td>\n",
       "      <td>0.175000</td>\n",
       "    </tr>\n",
       "    <tr>\n",
       "      <th>88</th>\n",
       "      <td>Kone</td>\n",
       "      <td>Ethiopia</td>\n",
       "      <td>221200</td>\n",
       "      <td>0.925774</td>\n",
       "      <td>0.2</td>\n",
       "      <td>0.182353</td>\n",
       "      <td>0.168421</td>\n",
       "      <td>0.200000</td>\n",
       "      <td>0.175000</td>\n",
       "    </tr>\n",
       "    <tr>\n",
       "      <th>979</th>\n",
       "      <td>Black Butte Crater Lava Field</td>\n",
       "      <td>United States</td>\n",
       "      <td>324010</td>\n",
       "      <td>0.923673</td>\n",
       "      <td>0.2</td>\n",
       "      <td>0.147059</td>\n",
       "      <td>0.176614</td>\n",
       "      <td>0.200000</td>\n",
       "      <td>0.200000</td>\n",
       "    </tr>\n",
       "    <tr>\n",
       "      <th>982</th>\n",
       "      <td>Hell's Half Acre</td>\n",
       "      <td>United States</td>\n",
       "      <td>324040</td>\n",
       "      <td>0.915480</td>\n",
       "      <td>0.2</td>\n",
       "      <td>0.147059</td>\n",
       "      <td>0.168421</td>\n",
       "      <td>0.200000</td>\n",
       "      <td>0.200000</td>\n",
       "    </tr>\n",
       "    <tr>\n",
       "      <th>114</th>\n",
       "      <td>Barrier, The</td>\n",
       "      <td>Kenya</td>\n",
       "      <td>222030</td>\n",
       "      <td>0.911452</td>\n",
       "      <td>0.2</td>\n",
       "      <td>0.144706</td>\n",
       "      <td>0.189474</td>\n",
       "      <td>0.200000</td>\n",
       "      <td>0.177273</td>\n",
       "    </tr>\n",
       "    <tr>\n",
       "      <th>128</th>\n",
       "      <td>Longonot</td>\n",
       "      <td>Kenya</td>\n",
       "      <td>222100</td>\n",
       "      <td>0.903199</td>\n",
       "      <td>0.2</td>\n",
       "      <td>0.147059</td>\n",
       "      <td>0.189474</td>\n",
       "      <td>0.200000</td>\n",
       "      <td>0.166667</td>\n",
       "    </tr>\n",
       "    <tr>\n",
       "      <th>980</th>\n",
       "      <td>Craters of the Moon</td>\n",
       "      <td>United States</td>\n",
       "      <td>324020</td>\n",
       "      <td>0.899587</td>\n",
       "      <td>0.2</td>\n",
       "      <td>0.162745</td>\n",
       "      <td>0.136842</td>\n",
       "      <td>0.200000</td>\n",
       "      <td>0.200000</td>\n",
       "    </tr>\n",
       "    <tr>\n",
       "      <th>142</th>\n",
       "      <td>Nyamuragira</td>\n",
       "      <td>DR Congo</td>\n",
       "      <td>223020</td>\n",
       "      <td>0.887751</td>\n",
       "      <td>0.2</td>\n",
       "      <td>0.147059</td>\n",
       "      <td>0.173684</td>\n",
       "      <td>0.196452</td>\n",
       "      <td>0.170556</td>\n",
       "    </tr>\n",
       "  </tbody>\n",
       "</table>\n",
       "</div>"
      ],
      "text/plain": [
       "                              name        country  smithsonian_id  \\\n",
       "117                 Emuruangogolak          Kenya          222051   \n",
       "17                     Pantelleria          Italy          211071   \n",
       "136                          Kyejo       Tanzania          222170   \n",
       "88                            Kone       Ethiopia          221200   \n",
       "979  Black Butte Crater Lava Field  United States          324010   \n",
       "982               Hell's Half Acre  United States          324040   \n",
       "114                   Barrier, The          Kenya          222030   \n",
       "128                       Longonot          Kenya          222100   \n",
       "980            Craters of the Moon  United States          324020   \n",
       "142                    Nyamuragira       DR Congo          223020   \n",
       "\n",
       "     total_analogy  ATs        AG        AM       ASz       ASt  \n",
       "117       0.934646  0.2  0.158824  0.178947  0.200000  0.196875  \n",
       "17        0.931199  0.2  0.186275  0.184211  0.200000  0.160714  \n",
       "136       0.928560  0.2  0.158824  0.194737  0.200000  0.175000  \n",
       "88        0.925774  0.2  0.182353  0.168421  0.200000  0.175000  \n",
       "979       0.923673  0.2  0.147059  0.176614  0.200000  0.200000  \n",
       "982       0.915480  0.2  0.147059  0.168421  0.200000  0.200000  \n",
       "114       0.911452  0.2  0.144706  0.189474  0.200000  0.177273  \n",
       "128       0.903199  0.2  0.147059  0.189474  0.200000  0.166667  \n",
       "980       0.899587  0.2  0.162745  0.136842  0.200000  0.200000  \n",
       "142       0.887751  0.2  0.147059  0.173684  0.196452  0.170556  "
      ]
     },
     "execution_count": 246,
     "metadata": {},
     "output_type": "execute_result"
    }
   ],
   "source": [
    "# Display the top 10 best matches\n",
    "top_analogues"
   ]
  },
  {
   "cell_type": "markdown",
   "id": "e26ef8bc-b7a1-4a5a-841a-5495d508ef46",
   "metadata": {},
   "source": [
    "#### Display data available for the target volcano\n",
    "\n",
    "For each particular target volcano chosen by the user, different types and amounts of data may be available, coming mainly from the GVP database, but complemented by two volcano-morphology databases (please refer to the [Source datasets](https://link.springer.com/article/10.1007/s00445-019-1336-3#Sec2) section and [Electronic Supplementary Material](https://link.springer.com/article/10.1007/s00445-019-1336-3#Sec25) of [Tierz et al., 2019](https://doi.org/10.1007/s00445-019-1336-3) for more details on the data used by PyVOLCANS).\n",
    "\n",
    "Note that, if data are missing for one or more volcanological criteria, PyVOLCANS will calculate a single-criterion analogy (for that criterion or criteria) equal to zero between the target volcano and any other volcano in the GVP database. As explained above, a Warning message is thrown by the `calculate_weighted_analogy_matrix()` function when this is the case."
   ]
  },
  {
   "cell_type": "code",
   "execution_count": 248,
   "id": "c0cf5142-0921-4a29-809a-28ebe9aca519",
   "metadata": {},
   "outputs": [
    {
     "data": {
      "text/plain": [
       "{'name': 'Fentale',\n",
       " 'country': 'Ethiopia',\n",
       " 'smithsonian_id': 221190,\n",
       " 'tectonic_setting': {0.5: 'Rift Continental Crust'},\n",
       " 'geochemistry': {'Foidite': 0.0,\n",
       "  'Phonolite': 0.0,\n",
       "  'Trachyte': 0.25,\n",
       "  'Trachyandesite/Basaltic trachyandesite': 0.0,\n",
       "  'Phono-tephrite/Tephri-phonolite': 0.0,\n",
       "  'Tephrite/Basanite/Trachybasalt': 0.25,\n",
       "  'Basalt': 0.0,\n",
       "  'Andesite': 0.25,\n",
       "  'Dacite': 0.0,\n",
       "  'Rhyolite': 0.25},\n",
       " 'morphology': 0.6842105263157895,\n",
       " 'eruption_size': {'VEI leq 2': 1.0,\n",
       "  'VEI 3': 0.0,\n",
       "  'VEI 4': 0.0,\n",
       "  'VEI 5': 0.0,\n",
       "  'VEI 6': 0.0,\n",
       "  'VEI 7': 0.0,\n",
       "  'VEI 8': 0.0},\n",
       " 'eruption_style': {'Lava flow and/or fountaining': 1.0,\n",
       "  'Ballistics and tephra': 0.0,\n",
       "  'Phreatic and phreatomagmatic activity': 0.0,\n",
       "  'Water-sediment flows': 0.0,\n",
       "  'Tsunamis': 0.0,\n",
       "  'Pyroclastic density currents': 0.0,\n",
       "  'Edifice collapse/destruction': 0.0,\n",
       "  'Caldera formation': 0.0}}"
      ]
     },
     "execution_count": 248,
     "metadata": {},
     "output_type": "execute_result"
    }
   ],
   "source": [
    "# Print full data about source volcano\n",
    "pvf.get_volcano_source_data(volcano_input)"
   ]
  },
  {
   "cell_type": "markdown",
   "id": "c35cc5e1-51bc-4ea9-8f90-ccac36f831b2",
   "metadata": {},
   "source": [
    "#### Some other simple but useful examples of what PyVOLCANS can provide\n",
    "\n",
    "##### Choose one specific volcano to display analogies for\n",
    "\n",
    "The code searches the Pandas DataFrame `volcans_result` by volcano name and displays the total and single-criterion analogies between the target and matched volcanoes. Please note that `volcans_result` actually contains the analogy values between the target volcano and **any** other volcano in the entire GVP database."
   ]
  },
  {
   "cell_type": "code",
   "execution_count": 250,
   "id": "652161af-68c4-4a9e-a67a-86e17619cf5b",
   "metadata": {},
   "outputs": [
    {
     "data": {
      "text/html": [
       "<div>\n",
       "<style scoped>\n",
       "    .dataframe tbody tr th:only-of-type {\n",
       "        vertical-align: middle;\n",
       "    }\n",
       "\n",
       "    .dataframe tbody tr th {\n",
       "        vertical-align: top;\n",
       "    }\n",
       "\n",
       "    .dataframe thead th {\n",
       "        text-align: right;\n",
       "    }\n",
       "</style>\n",
       "<table border=\"1\" class=\"dataframe\">\n",
       "  <thead>\n",
       "    <tr style=\"text-align: right;\">\n",
       "      <th></th>\n",
       "      <th>name</th>\n",
       "      <th>country</th>\n",
       "      <th>smithsonian_id</th>\n",
       "      <th>total_analogy</th>\n",
       "      <th>ATs</th>\n",
       "      <th>AG</th>\n",
       "      <th>AM</th>\n",
       "      <th>ASz</th>\n",
       "      <th>ASt</th>\n",
       "    </tr>\n",
       "  </thead>\n",
       "  <tbody>\n",
       "    <tr>\n",
       "      <th>21</th>\n",
       "      <td>Santorini</td>\n",
       "      <td>Greece</td>\n",
       "      <td>212040</td>\n",
       "      <td>0.775685</td>\n",
       "      <td>0.1</td>\n",
       "      <td>0.184967</td>\n",
       "      <td>0.168421</td>\n",
       "      <td>0.17438</td>\n",
       "      <td>0.147917</td>\n",
       "    </tr>\n",
       "  </tbody>\n",
       "</table>\n",
       "</div>"
      ],
      "text/plain": [
       "         name country  smithsonian_id  total_analogy  ATs        AG        AM  \\\n",
       "21  Santorini  Greece          212040       0.775685  0.1  0.184967  0.168421   \n",
       "\n",
       "        ASz       ASt  \n",
       "21  0.17438  0.147917  "
      ]
     },
     "execution_count": 250,
     "metadata": {},
     "output_type": "execute_result"
    }
   ],
   "source": [
    "# Check the analogy for a specific volcano by name\n",
    "volcans_result.loc[volcans_result['name'] == 'Santorini']"
   ]
  },
  {
   "cell_type": "markdown",
   "id": "63bb5b09-2ddd-49e5-80b0-4be41243b2ec",
   "metadata": {},
   "source": [
    "An equivalent search within `volcans_result` but using the Smithsonian ID (or VNUM) instead of the volcano name."
   ]
  },
  {
   "cell_type": "code",
   "execution_count": 252,
   "id": "deab15b6-d76b-44f6-a2b6-3249ef84fa25",
   "metadata": {},
   "outputs": [
    {
     "data": {
      "text/html": [
       "<div>\n",
       "<style scoped>\n",
       "    .dataframe tbody tr th:only-of-type {\n",
       "        vertical-align: middle;\n",
       "    }\n",
       "\n",
       "    .dataframe tbody tr th {\n",
       "        vertical-align: top;\n",
       "    }\n",
       "\n",
       "    .dataframe thead th {\n",
       "        text-align: right;\n",
       "    }\n",
       "</style>\n",
       "<table border=\"1\" class=\"dataframe\">\n",
       "  <thead>\n",
       "    <tr style=\"text-align: right;\">\n",
       "      <th></th>\n",
       "      <th>name</th>\n",
       "      <th>country</th>\n",
       "      <th>smithsonian_id</th>\n",
       "      <th>total_analogy</th>\n",
       "      <th>ATs</th>\n",
       "      <th>AG</th>\n",
       "      <th>AM</th>\n",
       "      <th>ASz</th>\n",
       "      <th>ASt</th>\n",
       "    </tr>\n",
       "  </thead>\n",
       "  <tbody>\n",
       "    <tr>\n",
       "      <th>1351</th>\n",
       "      <td>Hengill</td>\n",
       "      <td>Iceland</td>\n",
       "      <td>371050</td>\n",
       "      <td>0.823474</td>\n",
       "      <td>0.1</td>\n",
       "      <td>0.162745</td>\n",
       "      <td>0.168421</td>\n",
       "      <td>0.2</td>\n",
       "      <td>0.192308</td>\n",
       "    </tr>\n",
       "  </tbody>\n",
       "</table>\n",
       "</div>"
      ],
      "text/plain": [
       "         name  country  smithsonian_id  total_analogy  ATs        AG  \\\n",
       "1351  Hengill  Iceland          371050       0.823474  0.1  0.162745   \n",
       "\n",
       "            AM  ASz       ASt  \n",
       "1351  0.168421  0.2  0.192308  "
      ]
     },
     "execution_count": 252,
     "metadata": {},
     "output_type": "execute_result"
    }
   ],
   "source": [
    "# Check the analogy for a specific volcano by ID\n",
    "volcans_result.loc[volcans_result['smithsonian_id'] == 371050]"
   ]
  },
  {
   "cell_type": "markdown",
   "id": "bf18abee-a802-415d-9800-8557b6fa9b4a",
   "metadata": {},
   "source": [
    "##### Choose _a priori analogues_ and display/plot their data\n",
    "\n",
    "One very interesting feature of PyVOLCANS, which makes direct use of the `volcans_result` Pandas DataFrame, is the possibility of selecting sets of _a priori analogues_ for the target volcano and comparing them with the rest of volcanic systems in the whole GVP database. That is, provided that PyVOLCANS calculates the total analogy between the target volcano and **any** volcano in the GVP database, the program can calculate, for example, the proportion, or percentage, of volcanoes in the database that are classified as _better analogues_ (i.e. higher total analogy) than the selected _a priori analogues_. Please note that _a priori analogues_ may be defined as volcanoes considered to be _good analogues_ for the target volcano by means different to applying PyVOLCANS: e.g. considering expert judgement and/or the use of other, complementary, datasets or databases (e.g. volcanic-unrest databases, like [WOVOdat](https://www.wovodat.org/); or databases that focus on large-magnitude eruptions only, like [LaMEVE](https://www2.bgs.ac.uk/vogripa/view/controller.cfc?method=lameve), etc). Please see [Tierz et al., 2019](https://doi.org/10.1007/s00445-019-1336-3) for more details on _a priori analogues_.\n",
    "\n",
    "Immediately below, the user can choose a given set of _a priori analogues_ to display and plot data for. The first cell of code displays the volcano name as well as the single-criterion analogies for each of the _a priori analogues_. Subsequently, a bar plot displaying those single-criterion analogies on different colours is generated (please note that the overall height of each bar corresponds with the total analogy between the target volcano and the _a priori analogue_).\n",
    "\n",
    "<ins>**Important note**</ins>: please choose your _a priori analogues_ using either volcano name or Smithsonian ID (VNUM) but not mixtures of the two data types as, currently, this would make the code crash. We will work on fixing this issue to allow full flexibility in introducing the sets of _a priori analogues_. Many thanks for your understanding."
   ]
  },
  {
   "cell_type": "code",
   "execution_count": 254,
   "id": "977fc754-0b40-4340-90c1-97c4c5770b83",
   "metadata": {},
   "outputs": [
    {
     "data": {
      "text/html": [
       "<div>\n",
       "<style scoped>\n",
       "    .dataframe tbody tr th:only-of-type {\n",
       "        vertical-align: middle;\n",
       "    }\n",
       "\n",
       "    .dataframe tbody tr th {\n",
       "        vertical-align: top;\n",
       "    }\n",
       "\n",
       "    .dataframe thead th {\n",
       "        text-align: right;\n",
       "    }\n",
       "</style>\n",
       "<table border=\"1\" class=\"dataframe\">\n",
       "  <thead>\n",
       "    <tr style=\"text-align: right;\">\n",
       "      <th></th>\n",
       "      <th>name</th>\n",
       "      <th>ATs</th>\n",
       "      <th>AG</th>\n",
       "      <th>AM</th>\n",
       "      <th>ASz</th>\n",
       "      <th>ASt</th>\n",
       "    </tr>\n",
       "  </thead>\n",
       "  <tbody>\n",
       "    <tr>\n",
       "      <th>21</th>\n",
       "      <td>Santorini</td>\n",
       "      <td>0.100</td>\n",
       "      <td>0.184967</td>\n",
       "      <td>0.168421</td>\n",
       "      <td>0.174380</td>\n",
       "      <td>0.147917</td>\n",
       "    </tr>\n",
       "    <tr>\n",
       "      <th>1361</th>\n",
       "      <td>Torfajokull</td>\n",
       "      <td>0.100</td>\n",
       "      <td>0.169281</td>\n",
       "      <td>0.129689</td>\n",
       "      <td>0.188811</td>\n",
       "      <td>0.187500</td>\n",
       "    </tr>\n",
       "    <tr>\n",
       "      <th>1437</th>\n",
       "      <td>James Ross Island</td>\n",
       "      <td>0.175</td>\n",
       "      <td>0.174510</td>\n",
       "      <td>0.176614</td>\n",
       "      <td>0.000000</td>\n",
       "      <td>0.000000</td>\n",
       "    </tr>\n",
       "    <tr>\n",
       "      <th>983</th>\n",
       "      <td>Yellowstone</td>\n",
       "      <td>0.200</td>\n",
       "      <td>0.147059</td>\n",
       "      <td>0.152632</td>\n",
       "      <td>0.000000</td>\n",
       "      <td>0.125000</td>\n",
       "    </tr>\n",
       "  </tbody>\n",
       "</table>\n",
       "</div>"
      ],
      "text/plain": [
       "                   name    ATs        AG        AM       ASz       ASt\n",
       "21            Santorini  0.100  0.184967  0.168421  0.174380  0.147917\n",
       "1361        Torfajokull  0.100  0.169281  0.129689  0.188811  0.187500\n",
       "1437  James Ross Island  0.175  0.174510  0.176614  0.000000  0.000000\n",
       "983         Yellowstone  0.200  0.147059  0.152632  0.000000  0.125000"
      ]
     },
     "execution_count": 254,
     "metadata": {},
     "output_type": "execute_result"
    },
    {
     "data": {
      "image/png": "[encoded data removed]",
      "text/plain": [
       "<Figure size 640x480 with 1 Axes>"
      ]
     },
     "metadata": {},
     "output_type": "display_data"
    }
   ],
   "source": [
    "# Plot comparisons with specific volcanoes selected apriori\n",
    "apriori_volcanoes = ['Santorini', 'Torfajokull', 'James Ross Island', 'Yellowstone']\n",
    "\n",
    "# weights label is used in the filename if save_figure is True\n",
    "weights_label = 'Ts{:.3f}G{:.3f}M{:.3f}Sz{:.3f}St{:.3f}'.format(*weights.values())\n",
    "\n",
    "pvf.plot_bar_apriori_analogues(volcano_name, volcano_vnum, apriori_volcanoes,\n",
    "                               volcans_result, weights_label, save_figure=False)"
   ]
  },
  {
   "cell_type": "markdown",
   "id": "6f6d89d5-8a49-4cbe-96f4-51e9f5b4c01d",
   "metadata": {},
   "source": [
    "The cell below calculates the percentages of volcanoes in the entire GVP database that are classified as _better analogues_ (i.e. higher total analogy), for the target volcano, than each _a priori analogue_ selected by the user. In other words, if there are very few volcanoes in the GVP database that have higher values of total analogy with the target volcano, then the percentage of _better analogues_ for that particular _a priori analogue_ will be low, and vice versa.\n",
    "\n",
    "Finally, the percentages of _better analogues_ are shown in a bar plot, with the _y_-axis (displaying the percentage) capped at 50%, implicitly meaning that half or more of the volcanoes in the GVP database (N ~ 1440) are classified as _better analogues_, to the target volcano, than the selected _a priori analogue_.\n",
    "\n",
    "<ins>**Important note**</ins>: similarly to the fact that each set of _top_ analogues computed by PyVOLCANS corresponds, specifically, to the particular weighting scheme used to run the code, the values of total analogy, and the percentages of _better analogues_, calculated and shown for the _a priori analogues_ <ins>strictly depend</ins> on the specific weighting scheme chosen, on top of this Notebook, to carry out each specific PyVOLCANS run. Try it for yourself if you change the `weights` dictionary to have `'eruption_size': 1` (and the other weights set up to zero) or `'eruption_size': 0.5`, `'eruption_style': 0.5` (and the other weights set to zero). For more details on how changes in the weighting scheme influence the PyVOLCANS results, and/or those of variables calculated using the PyVOLCANS results, please see [Tierz et al. (2019)](https://doi.org/10.1007/s00445-019-1336-3) on the VOLCANS method, and [Tierz et al. (2020)](https://doi.org/10.1029/2020GC009219) on the application of VOLCANS to quantify volcanic hazard at Aluto volcano, Ethiopia. Many thanks."
   ]
  },
  {
   "cell_type": "code",
   "execution_count": 256,
   "id": "78445709-7942-46d3-9da9-b55e9bbdd949",
   "metadata": {},
   "outputs": [
    {
     "name": "stdout",
     "output_type": "stream",
     "text": [
      "\n",
      "\n",
      "According to PyVOLCANS, the following percentage of volcanoes in the GVP database\n",
      "are better analogues to Fentale than the 'a priori' analogues reported below:\n",
      "\n",
      "Santorini (212040): 12%\n",
      "\n",
      "Torfajokull (372050): 12%\n",
      "\n",
      "James Ross Island (390829): 56%\n",
      "\n",
      "Yellowstone (325010): 46%\n",
      "\n"
     ]
    },
    {
     "data": {
      "image/png": "[encoded data removed]",
      "text/plain": [
       "<Figure size 640x480 with 1 Axes>"
      ]
     },
     "metadata": {},
     "output_type": "display_data"
    }
   ],
   "source": [
    "# Display proportion of better analogues than apriori volcanoes\n",
    "percentiles, better_analogues = pvf.get_many_analogy_percentiles(volcano_input,\n",
    "                                                                 apriori_volcanoes,\n",
    "                                                                 volcans_result)\n",
    "\n",
    "better_analogues_df = pvf.plot_bar_better_analogues(volcano_name, volcano_vnum, better_analogues,\n",
    "                                                    weights_label, save_figure=False)"
   ]
  }
 ],
 "metadata": {
  "kernelspec": {
   "display_name": "Python 3 (ipykernel)",
   "language": "python",
   "name": "python3"
  },
  "language_info": {
   "codemirror_mode": {
    "name": "ipython",
    "version": 3
   },
   "file_extension": ".py",
   "mimetype": "text/x-python",
   "name": "python",
   "nbconvert_exporter": "python",
   "pygments_lexer": "ipython3",
   "version": "3.11.5"
  }
 },
 "nbformat": 4,
 "nbformat_minor": 5
}
